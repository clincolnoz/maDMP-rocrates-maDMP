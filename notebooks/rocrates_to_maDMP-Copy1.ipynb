{
 "cells": [
  {
   "cell_type": "code",
   "execution_count": 7,
   "metadata": {},
   "outputs": [
    {
     "name": "stdout",
     "output_type": "stream",
     "text": [
      "/Users/cl/Documents/masters/maDMP-rocrates-maDMP\n"
     ]
    }
   ],
   "source": [
    "import copy\n",
    "import json\n",
    "import jsonschema\n",
    "import os\n",
    "import sys\n",
    "import urllib\n",
    "\n",
    "%cd ..\n",
    "\n",
    "from src.rocrates_to_madmp import *"
   ]
  },
  {
   "cell_type": "code",
   "execution_count": 8,
   "metadata": {},
   "outputs": [],
   "source": [
    "def test_rocrate_dmp(dmp_header):\n",
    "    if not 'contact' in dmp_header:\n",
    "        print('argh')\n",
    "        if 'contributor' in dmp_header:\n",
    "            if not isinstance(dmp_header['contributor'], list):\n",
    "                dmp_header['contributor'] = [copy.deepcopy(dmp_header['contributor'])]\n",
    "            for contributor in dmp_header['contributor']:\n",
    "                if not 'role' in contributor:\n",
    "                    contributor['role'] = ['']\n",
    "            dmp_header['contact'] = copy.deepcopy(dmp_header['contributor'][0])\n",
    "            dmp_header['contact']['contact_id'] = dmp_header['contact'].pop('contributor_id')\n",
    "    if not 'ethical_issues_exist' in dmp_header:\n",
    "        dmp_header['ethical_issues_exist'] = 'unknown'\n",
    "    if not 'language' in dmp_header:\n",
    "        dmp_header['language'] = 'eng'\n",
    "    for dataset in dmp_header['dataset']:\n",
    "        for distribution in dataset['distribution']:\n",
    "            if not 'data_access' in distribution:\n",
    "                distribution['data_access'] = 'closed'\n",
    "\n",
    "\n",
    "def rocrates_to_madmp(path, path_schema, mappings, dmp_identifier):\n",
    "    print(os.listdir(path))\n",
    "    \n",
    "    manifest_dirs = [ name for name in os.listdir(path) if os.path.isdir(os.path.join(path, name)) ]\n",
    "    manifest_dirs.sort()\n",
    "    if 'manifest.jsonld' in os.listdir(path):\n",
    "        manifest_dirs.insert(0, '')\n",
    "    \n",
    "    dmp_id_type = get_identifer_type_for_dmp(dmp_identifier)\n",
    "    dmp_header = {'title': 'DMP created from rocrates',\n",
    "                 'description': 'a RDA-DMP-Common-Standard maDMP created from rocrate manifests',\n",
    "                 'dmp_id': {\n",
    "                     'identifier': dmp_identifier,\n",
    "                     'type': dmp_id_type\n",
    "                 }}\n",
    "    \n",
    "    dmp_from_rocrate = {'dmp': {}}\n",
    "    datasets = []\n",
    "    for manifest_dir in manifest_dirs:\n",
    "        manifest = read_json_local(os.path.join(path, manifest_dir, 'manifest.jsonld'))\n",
    "        dmp_header = {**dmp_header, **parse_mapping(manifest, dmp_header_to_dataset_mapping)}\n",
    "        datasets.append(parse_mapping(manifest, dataset_mapping))\n",
    "    dmp_header['dataset'] = datasets\n",
    "    dmp_from_rocrate['dmp'] = dmp_header\n",
    "    #print(json.dumps(dmp_from_rocrate, indent=4))\n",
    "    # fix problems\n",
    "    test_rocrate_dmp(dmp_header)\n",
    "    \n",
    "    # check schema\n",
    "    schema = read_json_url(path_schema)\n",
    "    valid = check_valid_dmp(dmp_from_rocrate, schema)\n",
    "    \n",
    "    write_json_local(os.path.join(path, 'dmp_from_rocrates.json'), dmp_from_rocrate)\n",
    "    return datasets"
   ]
  },
  {
   "cell_type": "code",
   "execution_count": 9,
   "metadata": {
    "scrolled": false
   },
   "outputs": [
    {
     "name": "stdout",
     "output_type": "stream",
     "text": [
      "['dmp_from_rocrates.json', 'manifest.jsonld']\n",
      "argh\n",
      "\u001b[1mChecking if valid maDMP\u001b[0m\n",
      "\u001b[92mVALID\u001b[0m\n"
     ]
    }
   ],
   "source": [
    "path = 'examples/ex9-dmp-long/'\n",
    "path = 'examples/simple-dataset-0.1.0'\n",
    "path_schema = 'https://raw.githubusercontent.com/RDA-DMP-Common/RDA-DMP-Common-Standard/master/examples/JSON/JSON-schema/1.0/maDMP-schema-1.0.json'\n",
    "dmp_identifier = \"https://doi.org/10.0000/00.0.1234\"\n",
    "datasets = rocrates_to_madmp(path, path_schema, mappings, dmp_identifier)"
   ]
  },
  {
   "cell_type": "code",
   "execution_count": null,
   "metadata": {},
   "outputs": [],
   "source": []
  },
  {
   "cell_type": "code",
   "execution_count": 4,
   "metadata": {},
   "outputs": [
    {
     "data": {
      "text/plain": [
       "[]"
      ]
     },
     "execution_count": 4,
     "metadata": {},
     "output_type": "execute_result"
    }
   ],
   "source": [
    "datasets"
   ]
  }
 ],
 "metadata": {
  "kernelspec": {
   "display_name": "datasteward_venv",
   "language": "python",
   "name": "datasteward_venv"
  },
  "language_info": {
   "codemirror_mode": {
    "name": "ipython",
    "version": 3
   },
   "file_extension": ".py",
   "mimetype": "text/x-python",
   "name": "python",
   "nbconvert_exporter": "python",
   "pygments_lexer": "ipython3",
   "version": "3.7.5"
  }
 },
 "nbformat": 4,
 "nbformat_minor": 2
}
