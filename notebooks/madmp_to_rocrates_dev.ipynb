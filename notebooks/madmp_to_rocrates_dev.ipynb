{
 "cells": [
  {
   "cell_type": "code",
   "execution_count": 1,
   "metadata": {},
   "outputs": [
    {
     "name": "stdout",
     "output_type": "stream",
     "text": [
      "/Users/cl/Documents/masters/maDMP-rocrates-maDMP\n"
     ]
    }
   ],
   "source": [
    "import copy\n",
    "import json\n",
    "import jsonschema\n",
    "import os\n",
    "import sys\n",
    "import urllib\n",
    "\n",
    "%cd ..\n",
    "\n",
    "from src.madmp_to_rocrates import *"
   ]
  },
  {
   "cell_type": "code",
   "execution_count": null,
   "metadata": {},
   "outputs": [],
   "source": [
    "\n"
   ]
  },
  {
   "cell_type": "code",
   "execution_count": 2,
   "metadata": {},
   "outputs": [
    {
     "name": "stdout",
     "output_type": "stream",
     "text": [
      "\u001b[1mChecking if valid maDMP\u001b[0m\n",
      "\u001b[92mVALID\u001b[0m\n",
      "processing dataset 1 of 3 datasets\n",
      "processing dataset 2 of 3 datasets\n",
      "processing dataset 3 of 3 datasets\n"
     ]
    }
   ],
   "source": [
    "path = 'examples/ex9-dmp-long/ex9-dmp-long.json'\n",
    "#path = 'examples/simple-dataset-0.1.0'\n",
    "path_schema = 'https://raw.githubusercontent.com/RDA-DMP-Common/RDA-DMP-Common-Standard/master/examples/JSON/JSON-schema/1.0/maDMP-schema-1.0.json'\n",
    "#dmp_identifier = \"https://doi.org/10.0000/00.0.1234\"\n",
    "rocrates = madmp_to_rocrate(path,\n",
    "                     path_schema,\n",
    "                     mappings)"
   ]
  },
  {
   "cell_type": "code",
   "execution_count": 3,
   "metadata": {},
   "outputs": [
    {
     "data": {
      "text/plain": [
       "dict_keys(['@id', '@type', 'identifier', 'name', 'description', 'contentType', 'hasPart', 'language', 'dateCreated', 'datePublished', 'contactPoint', 'author', 'ethicsPolicy', 'funder'])"
      ]
     },
     "execution_count": 3,
     "metadata": {},
     "output_type": "execute_result"
    }
   ],
   "source": [
    "rocrates[0]['@graph'][1].keys()"
   ]
  },
  {
   "cell_type": "code",
   "execution_count": 4,
   "metadata": {
    "scrolled": false
   },
   "outputs": [
    {
     "name": "stdout",
     "output_type": "stream",
     "text": [
      "{\n",
      "    \"@context\": \"https://w3id.org/ro/crate/1.0/context\",\n",
      "    \"@graph\": [\n",
      "        {\n",
      "            \"@id\": \"ro-crate-metadata.jsonld\",\n",
      "            \"identifier\": \"ro-crate-metadata.jsonld\",\n",
      "            \"@type\": \"CreativeWork\",\n",
      "            \"conformsTo\": {\n",
      "                \"@id\": \"https://w3id.org/ro/crate/1.0\"\n",
      "            },\n",
      "            \"about\": {\n",
      "                \"@id\": \"./\"\n",
      "            },\n",
      "            \"license\": {\n",
      "                \"@id\": \"https://creativecommons.org/publicdomain/zero/1.0/\"\n",
      "            }\n",
      "        },\n",
      "        {\n",
      "            \"@id\": \"./\",\n",
      "            \"@type\": \"Dataset\",\n",
      "            \"identifier\": \"https://hdl.handle.net/0000/00.00000\",\n",
      "            \"name\": \"Client application\",\n",
      "            \"description\": \"Some test scripts\",\n",
      "            \"contentType\": \"Source code\",\n",
      "            \"hasPart\": [\n",
      "                {\n",
      "                    \"@id\": \"Planned distribution\",\n",
      "                    \"@type\": \"Planned distribution\",\n",
      "                    \"contentSize\": 1000000000,\n",
      "                    \"encodingFormat\": [],\n",
      "                    \"data_access\": {\n",
      "                        \"@type\": \"ActiveActionStatus\",\n",
      "                        \"description\": \"open\"\n",
      "                    },\n",
      "                    \"contentLocation\": {\n",
      "                        \"name\": \"GitHub\",\n",
      "                        \"url\": \"https://www.re3data.org/repository/r3d100010375\",\n",
      "                        \"@type\": \"RepositoryCollection\",\n",
      "                        \"description\": \"GitHub is the best place to share code with friends, co-workers, classmates, and complete strangers. Over three million people use GitHub to build amazing things together. With the collaborative features of GitHub.com, our desktop and mobile apps, and GitHub Enterprise, it has never been easier for individuals and teams to write better code, faster. Originally founded by Tom Preston-Werner, Chris Wanstrath, and PJ Hyett to simplify sharing code, GitHub has grown into the largest code host in the world.\"\n",
      "                    },\n",
      "                    \"license\": [\n",
      "                        {\n",
      "                            \"@id\": \"http://opensource.org/licenses/mit-license.php\",\n",
      "                            \"@type\": \"CreativeWork\",\n",
      "                            \"name\": \"The MIT License (MIT)\",\n",
      "                            \"startDate\": \"2020-09-30\"\n",
      "                        }\n",
      "                    ],\n",
      "                    \"endDate\": \"2030-09-30\"\n",
      "                }\n",
      "            ],\n",
      "            \"language\": \"eng\",\n",
      "            \"dateCreated\": \"2019-12-06T11:33:05.619Z\",\n",
      "            \"datePublished\": \"2019-12-06T11:33:05.619Z\",\n",
      "            \"contactPoint\": {\n",
      "                \"@id\": \"john.smith@tuwien.ac.at\",\n",
      "                \"url\": \"https://www.tiss.tuwien.ac.at/person/2351952424\",\n",
      "                \"@type\": \"ContactPoint\",\n",
      "                \"email\": \"john.smith@tuwien.ac.at\",\n",
      "                \"name\": \"John Smith\"\n",
      "            },\n",
      "            \"author\": [\n",
      "                {\n",
      "                    \"@id\": \"https://orcid.org/0000-0002-0000-0000\",\n",
      "                    \"@type\": \"Person\",\n",
      "                    \"email\": \"leo.messi@barcelona.com\",\n",
      "                    \"name\": \"Leo Messi\",\n",
      "                    \"roleName\": [\n",
      "                        {\n",
      "                            \"@id\": \"https://orcid.org/0000-0002-0000-0000\",\n",
      "                            \"@type\": \"Role\",\n",
      "                            \"name\": \"ProjectLeader\"\n",
      "                        }\n",
      "                    ]\n",
      "                },\n",
      "                {\n",
      "                    \"@id\": \"https://orcid.org/0000-0002-4929-7875\",\n",
      "                    \"@type\": \"Person\",\n",
      "                    \"email\": \"robert@bayern.de\",\n",
      "                    \"name\": \"Robert Lewandowski\",\n",
      "                    \"roleName\": [\n",
      "                        {\n",
      "                            \"@id\": \"https://orcid.org/0000-0002-4929-7875\",\n",
      "                            \"@type\": \"Role\",\n",
      "                            \"name\": \"ContactPerson\"\n",
      "                        },\n",
      "                        {\n",
      "                            \"@id\": \"https://orcid.org/0000-0002-4929-7875\",\n",
      "                            \"@type\": \"Role\",\n",
      "                            \"name\": \"DataManager\"\n",
      "                        }\n",
      "                    ]\n",
      "                },\n",
      "                {\n",
      "                    \"@id\": \"https://www.tiss.tuwien.ac.at/person/305962565\",\n",
      "                    \"@type\": \"Person\",\n",
      "                    \"email\": \"CR@juve.it\",\n",
      "                    \"name\": \"Cristiano Ronaldo\",\n",
      "                    \"roleName\": [\n",
      "                        {\n",
      "                            \"@id\": \"https://www.tiss.tuwien.ac.at/person/305962565\",\n",
      "                            \"@type\": \"Role\",\n",
      "                            \"name\": \"DataCurator\"\n",
      "                        }\n",
      "                    ]\n",
      "                }\n",
      "            ],\n",
      "            \"ethicsPolicy\": {\n",
      "                \"@type\": \"CreativeWork\",\n",
      "                \"ethical_issues_exist\": \"yes\",\n",
      "                \"ethical_issues_report\": \"https://docs.google.com/document/d/xyz\",\n",
      "                \"ethical_issues_description\": \"Ethical issues are handled by ...\"\n",
      "            },\n",
      "            \"funder\": [\n",
      "                {\n",
      "                    \"@id\": \"https://tiss.tuwien.ac.at/api/pdb/rest/project/v3/1428966\",\n",
      "                    \"name\": \"openEO - a common, open source interface between Earth Observation data infrastructures and front-end applications\",\n",
      "                    \"startDate\": \"2017-10-01\",\n",
      "                    \"endDate\": \"2020-09-30\",\n",
      "                    \"description\": \"<p>The capabilities of the latest generation of Earth observation satellites to collect large volumes of diverse and thematically rich data are unprecedented. For exploiting these valuable data sets, many research and industry groups have started to shift their processing into the cloud. Although the functionalities of existing cloud computing solutions largely overlap, there are all custom-made and tailored to the specific data infrastructures. This lack of standards not only makes it hard for end users and application developers to develop generic front-ends, but also to compare the cloud offerings by running the same analysis against different cloud back-ends. To solve this, a common interface that allows end- and intermediate users to query cloud-based back offices and carry out computations on them in a simple way is needed. The openEO project will design such an interface, implement it as an open source community project, bind it to generic analytics front-ends and evaluate it against a set of relevant Earth observation cloud back offices. The openEO interface will consist of three layers of Application Programming Interfaces, namely a core API for finding, accessing, and processing large datasets, a driver APIs to connect to back offices operated by European and worldwide industry, and client APIs for analysing these datasets using R, Python and JavaScript. To demonstrate the capability of the openEO interface, four use cases based chiefly on Sentinel-1 and Sentinel-2 time series will be implemented. openEO will simplify the use of cloud-based processing engines, allow switching between cloud-based back office providers and comparing them, and enable reproducible, open Earth observation science. Thereby, openEO reduces the entry barriers for the adaptation of cloud computing technologies by a broad user community and paves the way for the federation of infrastructure capabilities.</p><p> </p>\",\n",
      "                    \"funder\": [\n",
      "                        {\n",
      "                            \"@id\": \"EO-2-2017\",\n",
      "                            \"@type\": \"Grant\",\n",
      "                            \"funder\": {\n",
      "                                \"@id\": \"\",\n",
      "                                \"@type\": \"Organisation\"\n",
      "                            }\n",
      "                        }\n",
      "                    ]\n",
      "                }\n",
      "            ]\n",
      "        }\n",
      "    ]\n",
      "}\n"
     ]
    }
   ],
   "source": [
    "print(json.dumps(rocrates[0], indent=4))"
   ]
  },
  {
   "cell_type": "code",
   "execution_count": 5,
   "metadata": {},
   "outputs": [
    {
     "name": "stdout",
     "output_type": "stream",
     "text": [
      "dict_keys(['@id', 'identifier', '@type', 'conformsTo', 'about', 'license'])\n",
      "dict_keys(['@id', '@type', 'author', 'citation', 'datePublished', 'description', 'hasPart', 'identifier', 'license', 'name', 'version'])\n",
      "dict_keys(['@id', '@type', 'encoding', 'encodingFormat', 'identifier', 'name', 'sameAs', 'version'])\n",
      "dict_keys(['@id', '@type', 'encodingFormat', 'identifier', 'license', 'name', 'sameAs', 'version'])\n",
      "dict_keys(['@id', '@type', 'encodingFormat', 'name', 'sameAs', 'version'])\n",
      "dict_keys(['@id', '@type', 'name'])\n",
      "dict_keys(['@id', '@type', 'name'])\n",
      "dict_keys(['@id', '@type', 'name'])\n",
      "dict_keys(['@id', '@type', 'name'])\n",
      "dict_keys(['@id', '@type', 'name'])\n",
      "dict_keys(['@id', '@type', 'name'])\n",
      "dict_keys(['@id', '@type', 'name'])\n",
      "dict_keys(['@id', '@type', 'name'])\n",
      "dict_keys(['@id', '@type', 'name'])\n",
      "dict_keys(['@id', '@type', 'name'])\n",
      "dict_keys(['@id', '@type', 'name'])\n",
      "dict_keys(['@id', '@type', 'name'])\n",
      "dict_keys(['@id', '@type', 'name'])\n",
      "dict_keys(['@id', '@type', 'name'])\n",
      "dict_keys(['@id', '@type', 'name'])\n",
      "dict_keys(['@id', '@type', 'name'])\n",
      "dict_keys(['@id', '@type', 'name'])\n",
      "dict_keys(['@id', '@type', 'name'])\n",
      "dict_keys(['@id', '@type', 'name'])\n",
      "dict_keys(['@id', '@type', 'name'])\n",
      "dict_keys(['@id', '@type', 'name'])\n",
      "dict_keys(['@id', '@type', 'name'])\n",
      "dict_keys(['@id', '@type', 'name'])\n",
      "dict_keys(['@id', '@type', 'identifier', 'name', 'version'])\n",
      "dict_keys(['@id', '@type', 'identifier', 'name', 'version'])\n",
      "dict_keys(['@id', '@type', 'author', 'datePublished', 'isPartOf', 'name', 'releasedEvent', 'subjectOf'])\n",
      "dict_keys(['@id', '@type', 'datePublished', 'isBasedOn', 'name', 'releasedEvent'])\n",
      "dict_keys(['@id', '@type', 'alternateName', 'endDate', 'location', 'name', 'startDate', 'superEvent'])\n",
      "dict_keys(['@id', '@type', 'endDate', 'location', 'name', 'startDate'])\n",
      "dict_keys(['@id', '@type', 'name', 'sameAs'])\n",
      "dict_keys(['@id', '@type', 'name', 'alternateName'])\n",
      "dict_keys(['@id', '@type', 'name', 'alternateName'])\n"
     ]
    }
   ],
   "source": [
    "rocrate = read_json_local('examples/rocrate-1.0/ro-crate-metadata.jsonld')\n",
    "for item in rocrate['@graph']:\n",
    "    print(item.keys())\n"
   ]
  }
 ],
 "metadata": {
  "kernelspec": {
   "display_name": "datasteward_venv",
   "language": "python",
   "name": "datasteward_venv"
  },
  "language_info": {
   "codemirror_mode": {
    "name": "ipython",
    "version": 3
   },
   "file_extension": ".py",
   "mimetype": "text/x-python",
   "name": "python",
   "nbconvert_exporter": "python",
   "pygments_lexer": "ipython3",
   "version": "3.7.5"
  }
 },
 "nbformat": 4,
 "nbformat_minor": 2
}
